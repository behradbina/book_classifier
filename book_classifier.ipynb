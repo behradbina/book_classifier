{
 "cells": [
  {
   "cell_type": "code",
   "execution_count": null,
   "metadata": {},
   "outputs": [],
   "source": [
    "import pandas as pd;\n",
    "import hazm as hz;\n",
    "import math"
   ]
  },
  {
   "cell_type": "code",
   "execution_count": null,
   "metadata": {},
   "outputs": [],
   "source": [
    "categories = {\n",
    "    \"جامعه‌شناسی\" : 0,\n",
    "    \"مدیریت و کسب و کار\" : 1,\n",
    "    \"رمان\" : 2,\n",
    "    \"کلیات اسلام\" : 3,\n",
    "    \"داستان کودک و نوجوانان\" : 4,\n",
    "    \"داستان کوتاه\" : 5,\n",
    "}"
   ]
  },
  {
   "cell_type": "code",
   "execution_count": null,
   "metadata": {},
   "outputs": [],
   "source": [
    "bow = [{},{},{},{},{},{},0] #the last element is for number of all unique words"
   ]
  },
  {
   "cell_type": "code",
   "execution_count": null,
   "metadata": {},
   "outputs": [],
   "source": [
    "lemmatizer = hz.Lemmatizer()\n",
    "stemmer = hz.Stemmer()\n",
    "normalizer = hz.Normalizer()\n",
    "alpha = 1"
   ]
  },
  {
   "cell_type": "code",
   "execution_count": null,
   "metadata": {},
   "outputs": [],
   "source": [
    "train_data = pd.read_csv('books_train.csv')"
   ]
  },
  {
   "cell_type": "code",
   "execution_count": null,
   "metadata": {},
   "outputs": [],
   "source": [
    "train_data.describe()"
   ]
  },
  {
   "cell_type": "markdown",
   "metadata": {},
   "source": [
    "## Preprocessing functions"
   ]
  },
  {
   "cell_type": "code",
   "execution_count": null,
   "metadata": {},
   "outputs": [],
   "source": [
    "def useless_words() -> list:\n",
    "    extraThings = [',', '.', ')', '(', ':', '«', '،', '»' , '؟' , '،' , '؛' , '؟' , 'ـ' , '٪', '!']\n",
    "    persian_numbers = ['۱','۲','۳','۴','۵','۶','۷','۸','۹','۰' ]\n",
    "    extraThings.extend(hz.stopwords_list())\n",
    "    extraThings.extend(persian_numbers)\n",
    "    \n",
    "    return extraThings\n",
    "\n",
    "def create_bow(bow ,category, description):\n",
    "    normalizer.normalize(description)\n",
    "    category_index = categories[category]\n",
    "    words_list = hz.word_tokenize(description)\n",
    "    filter_words_of_sentence(bow, words_list, category_index, useless_words())\n",
    "    \n",
    "def filter_words_of_sentence(bow:list, words_list: list, category_index: int,extraThings: list):    \n",
    "    for word in words_list:\n",
    "        word = lemmatizer.lemmatize(word)\n",
    "        word = stemmer.stem(word)\n",
    "          \n",
    "        if word not in bow[category_index] and word not in extraThings:\n",
    "            if(is_new_word(word, bow)):\n",
    "                bow[6] += 1\n",
    "            bow[category_index][word] = 1\n",
    "            continue    \n",
    "                   \n",
    "        if word in bow[category_index]:\n",
    "            bow[category_index][word] += 1\n",
    "\n",
    "def is_new_word(word: str, bow)->bool:\n",
    "    for i in range(6):\n",
    "        if word in bow[i]:\n",
    "            return False\n",
    "    return True   \n",
    "        \n",
    "def sum_values(dict_cat: dict)->int:\n",
    "    sum = 0\n",
    "    for i in dict_cat.values():\n",
    "        sum += i\n",
    "    return sum"
   ]
  },
  {
   "cell_type": "markdown",
   "metadata": {},
   "source": [
    "## Classifing function"
   ]
  },
  {
   "cell_type": "code",
   "execution_count": null,
   "metadata": {},
   "outputs": [],
   "source": [
    "def guess_the_category_of_book(bow: list, book_words: list, number_of_all_words: int) -> int:    \n",
    "    guessed_category = 0 #default value\n",
    "    max = float('-inf') #minimum number for initializing\n",
    "    extraThings = useless_words()\n",
    "    \n",
    "    for category in categories.values():\n",
    "        sum_category_elements  = sum_values(bow[category])    \n",
    "        sum_p = 0.0\n",
    "        \n",
    "        for word in book_words:\n",
    "            if word in extraThings:\n",
    "                continue\n",
    "            word = lemmatizer.lemmatize(word)\n",
    "            word = stemmer.stem(word)\n",
    "            \n",
    "            if word in bow[category]:\n",
    "                word_count = bow[category][word]\n",
    "                if word_count == 0:\n",
    "                    sum_p += math.log10((alpha) / (sum_category_elements + alpha*number_of_all_words))\n",
    "                else:\n",
    "                    sum_p += math.log10(word_count/sum_category_elements)\n",
    "            else:                      \n",
    "                sum_p += math.log10((alpha) / (sum_category_elements + alpha*number_of_all_words))\n",
    "        \n",
    "        if max < sum_p:\n",
    "            max = sum_p\n",
    "            guessed_category = category       \n",
    "\n",
    "    return guessed_category"
   ]
  },
  {
   "cell_type": "markdown",
   "metadata": {},
   "source": [
    "### Evaluate model"
   ]
  },
  {
   "cell_type": "code",
   "execution_count": null,
   "metadata": {},
   "outputs": [],
   "source": [
    "def judge(bow: list, description, category, number_of_all_words: int):\n",
    "    normalizer.normalize(description)\n",
    "    book_words = hz.word_tokenize(description) \n",
    "    guessed_category = guess_the_category_of_book(bow, book_words, number_of_all_words)\n",
    "    book_category = categories[category]\n",
    "    if guessed_category == book_category: \n",
    "        return 1\n",
    "    return 0\n",
    "\n",
    "\n",
    "\n",
    "def calculate_accuracy(test_data):\n",
    "    true_guess_counter = 0\n",
    "    for x in test_data['guess_status']:\n",
    "        if x == 1:\n",
    "            true_guess_counter += 1\n",
    "    return true_guess_counter/len(test_data.index) "
   ]
  },
  {
   "cell_type": "code",
   "execution_count": null,
   "metadata": {},
   "outputs": [],
   "source": [
    "train_data = train_data.apply(lambda row :create_bow(bow ,row['categories'],row['description']), axis = 1)"
   ]
  },
  {
   "cell_type": "code",
   "execution_count": null,
   "metadata": {},
   "outputs": [],
   "source": [
    "test_data = pd.read_csv('books_test.csv')\n",
    "test_data['guess_status'] = test_data.apply(lambda row: judge(bow, row['description'], row['categories'], bow[6]), axis=1)  "
   ]
  },
  {
   "cell_type": "code",
   "execution_count": null,
   "metadata": {},
   "outputs": [],
   "source": [
    "print(calculate_accuracy(test_data))"
   ]
  }
 ],
 "metadata": {
  "language_info": {
   "name": "python"
  }
 },
 "nbformat": 4,
 "nbformat_minor": 2
}
